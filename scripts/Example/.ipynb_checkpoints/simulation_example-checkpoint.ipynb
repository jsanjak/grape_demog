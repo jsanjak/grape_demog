{
 "cells": [
  {
   "cell_type": "markdown",
   "metadata": {
    "collapsed": true
   },
   "source": [
    "# Grape demography with clonal propagation example\n",
    "\n",
    "Genetic evidence suggests that wine grapes went through a strong population bottleneck during the agricultural domestication process. In addition to this bottleneck, the mating system of wine grapes changed from wild outcrossing to clonal propagation via stem cuttings. In this notebook I demonstrate one way to model the effects of a simultaneous shift from an outcrossing population with a large and constant population size to a clonal population of decreasing size. \n",
    "\n",
    "This example relies heavily on fwdpy11, a pybind11 based wrapper for the population genetics simulation C++ template libary called fwdpp. I built and extension module to simulate clonal propagation and a user defined class function to collect time series data from the simulations. \n",
    "\n",
    "I want to compare the empirical model, which has a bottleneck and clonal propagation to hypothetical models with no change in populationsize and/or strict outcrossing . In the end we have four models, one for each combination of the two demographic and two mating models."
   ]
  },
  {
   "cell_type": "markdown",
   "metadata": {},
   "source": [
    "# Import modules "
   ]
  },
  {
   "cell_type": "code",
   "execution_count": 6,
   "metadata": {
    "collapsed": true
   },
   "outputs": [],
   "source": [
    "%matplotlib inline\n",
    "import fwdpy11 as fp11 #fwdpy11 \n",
    "from fwdpy11.model_params import SlocusParams\n",
    "import fwdpy11.wright_fisher as wf\n",
    "import fwdpy11.sampling as fps\n",
    "import libsequence.polytable as polyt\n",
    "from libsequence.summstats import PolySIM\n",
    "import itertools\n",
    "from copy import deepcopy,copy\n",
    "import numpy as np\n",
    "import matplotlib\n",
    "import matplotlib.pyplot as plt\n",
    "import matplotlib.lines as mlines\n",
    "import clonal #This is my fwdpy11 extension module for clonal evolution\n",
    "#import RecordStats"
   ]
  },
  {
   "cell_type": "markdown",
   "metadata": {},
   "source": [
    "# Define recorder class\n",
    "\n",
    "This recorder will capture data from the population at regular intervals. For now, I have hard coded it to pull data every 100 generations. We will use this data for our downstream analysis. The recorder is pretty heavy and will slow the simulations down, but it's super worth it to have all the correct data saved over time. In the real implementation, the recorder will dump data to a file or SQL database for performance."
   ]
  },
  {
   "cell_type": "code",
   "execution_count": 10,
   "metadata": {
    "collapsed": true
   },
   "outputs": [],
   "source": [
    "#I had to define this small function for compatibility with\n",
    "#pylibseq, which wants bytearrays not python3 strings\n",
    "def str2byte(tup,fmtstring):\n",
    "    byte_tup = (tup[0],bytearray(tup[1],fmtstring))\n",
    "    return(byte_tup)\n",
    "\n",
    "class RecordStats:\n",
    "    \"\"\"\n",
    "    Record some basic stats about the population\n",
    "    including average fitness\n",
    "    \"\"\"\n",
    "    def __init__(self,ngen):\n",
    "        self.ngen=ngen\n",
    "        self.generation = [] \n",
    "        self.N = []\n",
    "        self.relative_load = []\n",
    "        self.segregating_load = []\n",
    "        self.fixed_load = []\n",
    "        self.fixed_deleterious = []\n",
    "        self.fixed_neutral = []\n",
    "        self.mean_deleterious_per_diploid = []\n",
    "        self.mean_neutral_per_diploid = []\n",
    "        self.cumulative_deleterious_frequency = []\n",
    "        self.cumulative_neutral_frequency = []\n",
    "        self.neutral_tajd = []\n",
    "        self.total_tajd = []\n",
    "        self.neutral_pi = []\n",
    "        self.total_pi = []\n",
    "        self.neutral_hprime = []\n",
    "        self.total_hprime = []\n",
    "        \n",
    "    def __call__(self,pop):\n",
    "        \"\"\"\n",
    "        The call operator  will be given with the whole population.\n",
    "        One can then operate in a read-only way, no copies made.\n",
    "        \"\"\"\n",
    "        if ( pop.generation % self.ngen == 0 ):\n",
    "            #first get necessary information from the population\n",
    "            N = len(pop.diploids) # Population size\n",
    "            w = [ ind.w for ind in pop.diploids ] # fitness\n",
    "            fixed_s = [mut.s for mut in pop.fixations if not mut.neutral]\n",
    "\n",
    "            #Frequency of deleterious mutations\n",
    "            cumulative_deleterious_frequency = np.sum([ j/float(2*N) for i,j in \n",
    "                                                       zip(pop.mutations,pop.mcounts) if \n",
    "                                                       not i.neutral and j > 0 ])\n",
    "\n",
    "            cumulative_neutral_frequency = np.sum([ j/float(2*N) for i,j in \n",
    "                                                   zip(pop.mutations,pop.mcounts) if \n",
    "                                                   i.neutral and j > 0 ])\n",
    "\n",
    "            #How many of each type of mutation does each diploid have?\n",
    "            mean_deleterious_per_diploid = np.mean([len(pop.gametes[ind.first].smutations) + \n",
    "                                       len(pop.gametes[ind.second].smutations) for \n",
    "                                       ind in pop.diploids ])\n",
    "\n",
    "            mean_neutral_per_diploid = np.mean([len(pop.gametes[ind.first].mutations) + \n",
    "                                       len(pop.gametes[ind.second].mutations) for \n",
    "                                       ind in pop.diploids])  \n",
    "\n",
    "            #How many fixed mutations are there?\n",
    "\n",
    "            fixed_deleterious = len(fixed_s)\n",
    "            fixed_neutral = [mut.neutral for mut in pop.fixations].count(True)\n",
    "\n",
    "            relative_load = 1 - np.mean(w)/np.max(w)\n",
    "            segregating_load = 1 - np.mean(w)\n",
    "            fixed_load = 1 - np.prod([1+2*s for s in fixed_s])\n",
    "\n",
    "            #Statistics on population samples:\n",
    "            samp = fps.sample_separate(rng,pop,100,False)\n",
    "            neutral_sample = polyt.SimData([str2byte(mut,'utf-8') \n",
    "                                for mut in samp[0]])\n",
    "            combined_sample = polyt.SimData([str2byte(mut,'utf-8') \n",
    "                                for mut in \n",
    "                                 list(itertools.chain.from_iterable(samp))])\n",
    "            \n",
    "            ps_neutral = PolySIM(neutral_sample)\n",
    "            ps_combined = PolySIM(combined_sample)\n",
    "            \n",
    "            neutral_tajd = ps_neutral.tajimasd()\n",
    "            total_tajd = ps_combined.tajimasd()\n",
    "            neutral_pi = ps_neutral.thetapi()\n",
    "            total_pi = ps_combined.thetapi()\n",
    "            neutral_hprime = ps_neutral.hprime()\n",
    "            total_hprime = ps_combined.hprime()            \n",
    "            \n",
    "            #Now append these to the recorder\n",
    "            self.generation.append(pop.generation)\n",
    "            self.N.append(N)\n",
    "            self.relative_load.append(relative_load)\n",
    "            self.segregating_load.append(segregating_load)\n",
    "            self.fixed_load.append(fixed_load)\n",
    "            self.fixed_deleterious.append(fixed_deleterious)\n",
    "            self.fixed_neutral.append(fixed_neutral)\n",
    "            self.mean_deleterious_per_diploid.append(mean_deleterious_per_diploid)\n",
    "            self.mean_neutral_per_diploid.append(mean_neutral_per_diploid)\n",
    "            self.cumulative_deleterious_frequency.append(cumulative_deleterious_frequency)\n",
    "            self.cumulative_neutral_frequency.append(cumulative_neutral_frequency)\n",
    "            self.neutral_tajd.append(neutral_tajd)\n",
    "            self.total_tajd.append(total_tajd)\n",
    "            self.neutral_pi.append(neutral_pi)\n",
    "            self.total_pi.append(total_pi)\n",
    "            self.neutral_hprime.append(neutral_hprime)\n",
    "            self.total_hprime.append(total_hprime)"
   ]
  },
  {
   "cell_type": "markdown",
   "metadata": {},
   "source": [
    "# Define simulation parameters\n",
    "\n",
    "Here we will define the parameters that are used in the various models. All models will have an 8N generation burn-in period at the ancestral population size. We set an ancestral population size scaled mutation rate of $\\theta= 4Nu$, and the equivalent recombination rate of $\\rho = 4Nr$. \n",
    "\n",
    "For this test example, I use an ancestral population size of 10000, so that drift isn't insane. The population will drop from 4000 to 200 under the bottleneck. Although, it occurs over 100 generations, so perhaps it is somewhat gradual. These parameters are scaled by factor of 100 compared to the real ones I was given. But, I still use a theta of 200 which is apparently something like 50Kb for the grape. \n",
    "\n",
    "There are going to be regions where neutral mutations happen and regions where selected mutations happen. The fitness effects of deleterious mutations are drawn from a gamma distribution with mean -0.05 and scale 0.3. In this example, I just have two neutral regions flanking a coding region. As you can see, these regions are passed as lists and thus it is trivial to extend the number of neutral and coding regions.\n",
    "\n"
   ]
  },
  {
   "cell_type": "code",
   "execution_count": 11,
   "metadata": {
    "collapsed": true
   },
   "outputs": [],
   "source": [
    "\n",
    "#Basic values\n",
    "N_anc=4000 # Ancestral size\n",
    "N_pre=200 # Present size\n",
    "Gen_burnin = 8*N_anc # Burnin generations\n",
    "Gen_bottle = 100 #Bottle neck generations\n",
    "theta=200\n",
    "rho=40\n",
    "\n",
    "#Parameter dictionarys\n",
    "# Ancestral burnin\n",
    "p_anc = {'demography':np.array([N_anc]*Gen_burnin,dtype=np.uint32),\n",
    "   'nregions':[fp11.Region(0,1,1)],\n",
    "    'recregions':[fp11.Region(0,1,1)],\n",
    "    'sregions':[fp11.GammaS(0,1,1,-0.05,0.3,1)],\n",
    "    'rates':((11./12.)*theta/float(4*N_anc),(1./12.)*theta/float(4*N_anc),rho/float(4*N_anc))\n",
    "}\n",
    "\n",
    "# Bottle neck parameters\n",
    "p_bottle ={'demography':np.uint32(np.linspace(N_anc,N_pre,Gen_bottle)),\n",
    "   'nregions':[fp11.Region(0,1,1)],\n",
    "    'recregions':[fp11.Region(0,1,1)],\n",
    "    'sregions':[fp11.GammaS(0,1,1,-0.05,0.3,1)],\n",
    "    'rates':((11./12.)*theta/float(4*N_anc),(1./12.)*theta/float(4*N_anc),rho/float(4*N_anc))\n",
    "}\n",
    "\n",
    "#Continue constant pop for same duration as bottleneck\n",
    "p_const ={'demography':np.array([N_anc]*Gen_bottle,dtype=np.uint32),\n",
    "   'nregions':[fp11.Region(0,1,1)],\n",
    "    'recregions':[fp11.Region(0,1,1)],\n",
    "    'sregions':[fp11.GammaS(0,1,1,-0.05,0.3,1)],\n",
    "    'rates':((11./12.)*theta/float(4*N_anc),(1./12.)*theta/float(4*N_anc),rho/float(4*N_anc))\n",
    "}\n",
    "\n",
    "rng=fp11.GSLrng(101)\n",
    "\n",
    "params_anc=SlocusParams(**p_anc)\n",
    "params_bottle=SlocusParams(**p_bottle)\n",
    "params_const=SlocusParams(**p_const)\n"
   ]
  },
  {
   "cell_type": "markdown",
   "metadata": {},
   "source": [
    "# Ancestral Burn-in \n",
    "\n",
    "Simulate the ancestral burning according to standard wright-fisher rules."
   ]
  },
  {
   "cell_type": "code",
   "execution_count": null,
   "metadata": {},
   "outputs": [],
   "source": [
    "pop_anc = fp11.SlocusPop(N_anc)\n",
    "recorder_anc = RecordStats(10)\n",
    "\n",
    "\n",
    "fp11.wright_fisher.evolve(rng,pop_anc,params_anc,recorder_anc)\n",
    "\n"
   ]
  },
  {
   "cell_type": "markdown",
   "metadata": {},
   "source": [
    "# Copy pops and simulate alternative endings\n",
    "\n",
    "We copy the populations and the recorders. This way we can see in a given replicate, what the effect of each model is.\n",
    "\n"
   ]
  },
  {
   "cell_type": "code",
   "execution_count": 5,
   "metadata": {
    "collapsed": true
   },
   "outputs": [],
   "source": [
    "#We already have pop_anc and will re-use it for the constant pop + outcrossing model\n",
    "\n",
    "pop_bottle_outcross = deepcopy(pop_anc) # bottle neck + outcrossing\n",
    "recorder_bottle_outcross = deepcopy(recorder_anc)\n",
    "\n",
    "pop_const_clonal = deepcopy(pop_anc) # constant pop size + clonal propagation\n",
    "recorder_const_clonal = deepcopy(recorder_anc)\n",
    "\n",
    "pop_bottle_clonal = deepcopy(pop_anc) # bottle neck + clonal\n",
    "recorder_bottle_clonal = deepcopy(recorder_anc)\n",
    "\n",
    "\n"
   ]
  },
  {
   "cell_type": "markdown",
   "metadata": {},
   "source": [
    "# Simulate alternative endings"
   ]
  },
  {
   "cell_type": "code",
   "execution_count": 162,
   "metadata": {
    "collapsed": true
   },
   "outputs": [],
   "source": [
    "fp11.wright_fisher.evolve(rng,pop_anc,\n",
    "                          params_const,recorder_anc) # constant pop  + outcrossing\n",
    "\n",
    "fp11.wright_fisher.evolve(rng,pop_bottle_outcross,\n",
    "                          params_bottle,recorder_bottle_outcross) # bottleneck  + outcrossing\n",
    "\n",
    "clonal.evolve(rng,pop_const_clonal,\n",
    "              params_const,recorder_const_clonal) # constant pop  + clonal\n",
    "\n",
    "clonal.evolve(rng,pop_bottle_clonal,\n",
    "              params_bottle,recorder_bottle_clonal)# constant pop  + clonal\n"
   ]
  },
  {
   "cell_type": "code",
   "execution_count": 163,
   "metadata": {
    "collapsed": true
   },
   "outputs": [],
   "source": [
    "import pickle\n",
    "recorder_dict = {\"const_outcross\" : recorder_anc,\n",
    "                \"bottle_outcross\" : recorder_bottle_outcross,\n",
    "                \"const_clonal\" : recorder_const_clonal,\n",
    "                \"bottle_clonal\" : recorder_bottle_clonal}\n",
    "\n",
    "output = open('clonal_grape.pkl', 'wb')\n",
    "pickle.dump(recorder_dict,output)\n",
    "output.close()"
   ]
  }
 ],
 "metadata": {
  "kernelspec": {
   "display_name": "Python 3",
   "language": "python",
   "name": "python3"
  },
  "language_info": {
   "codemirror_mode": {
    "name": "ipython",
    "version": 3
   },
   "file_extension": ".py",
   "mimetype": "text/x-python",
   "name": "python",
   "nbconvert_exporter": "python",
   "pygments_lexer": "ipython3",
   "version": "3.5.2"
  }
 },
 "nbformat": 4,
 "nbformat_minor": 2
}
